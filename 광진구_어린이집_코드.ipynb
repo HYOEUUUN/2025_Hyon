{
  "nbformat": 4,
  "nbformat_minor": 0,
  "metadata": {
    "colab": {
      "provenance": [],
      "authorship_tag": "ABX9TyOVPLUsS4Lh7lobXAAYN78Z",
      "include_colab_link": true
    },
    "kernelspec": {
      "name": "python3",
      "display_name": "Python 3"
    },
    "language_info": {
      "name": "python"
    }
  },
  "cells": [
    {
      "cell_type": "markdown",
      "metadata": {
        "id": "view-in-github",
        "colab_type": "text"
      },
      "source": [
        "<a href=\"https://colab.research.google.com/github/HYOEUUUN/2025_Hyon/blob/main/%EA%B4%91%EC%A7%84%EA%B5%AC_%EC%96%B4%EB%A6%B0%EC%9D%B4%EC%A7%91_%EC%BD%94%EB%93%9C.ipynb\" target=\"_parent\"><img src=\"https://colab.research.google.com/assets/colab-badge.svg\" alt=\"Open In Colab\"/></a>"
      ]
    },
    {
      "cell_type": "code",
      "execution_count": null,
      "metadata": {
        "id": "2kapp63UGYW7"
      },
      "outputs": [],
      "source": [
        "import numpy as np\n",
        "import pandas as pd\n",
        "\n",
        "data=pd.read_csv('/content/서울시 광진구 어린이집 정보 (표준 데이터).csv',encoding='cp949')\n",
        "data"
      ]
    },
    {
      "cell_type": "code",
      "source": [
        "df1=data[['어린이집코드','어린이집명','어린이집유형','우편번호','상세주소','놀이터수','시설 위도(좌표값)','시설 경도(좌표값)','운영현황']]\n",
        "df1"
      ],
      "metadata": {
        "id": "iRPBqbcbIjUY"
      },
      "execution_count": null,
      "outputs": []
    },
    {
      "cell_type": "code",
      "source": [
        "df1= df1.drop(df1[df1['운영현황']=='폐지'].index,axis=0)\n",
        "df1.to_csv('C:\\\\Users\\\\gpfla\\\\Downloads\\\\광진구 어린이집\\\\어린이집.csv',index=False)"
      ],
      "metadata": {
        "id": "nZbkVLm1J9kQ"
      },
      "execution_count": 91,
      "outputs": []
    },
    {
      "cell_type": "code",
      "source": [
        "loc=[]\n",
        "for i in df1['우편번호'].values:\n",
        "  a=str(i)[0:3]\n",
        "  if a not in loc:\n",
        "    loc.append(a)\n",
        "loc.sort()\n",
        "\n",
        "for i in range(len(loc)):\n",
        "  loc[i] = int(loc[i])\n",
        "\n",
        "loc"
      ],
      "metadata": {
        "id": "YAfe0maTQtuh"
      },
      "execution_count": null,
      "outputs": []
    },
    {
      "cell_type": "code",
      "source": [
        "df1['우편번호 그룹']= df1['우편번호'].astype(str).str[:3]\n",
        "groupe1={grouped:groued1_df for grouped,groued1_df in df1.groupby('우편번호 그룹')}\n",
        "df2=pd.concat(groupe1.values(),keys=groupe1.keys())\n",
        "df2 = df2.drop(df2[df2['운영현황']=='폐지'].index,axis=0)\n",
        "df2.to_csv('거리별 그룹 어린이집.csv',index=False)"
      ],
      "metadata": {
        "id": "vswULvVpSgKR"
      },
      "execution_count": null,
      "outputs": []
    }
  ]
}